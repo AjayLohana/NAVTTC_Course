{
 "cells": [
  {
   "cell_type": "markdown",
   "metadata": {},
   "source": [
    "## **Importing the libraries**"
   ]
  },
  {
   "cell_type": "code",
   "execution_count": 91,
   "metadata": {},
   "outputs": [],
   "source": [
    "import pandas as pd \n",
    "import numpy as np \n",
    "import seaborn as sns \n",
    "from sklearn.model_selection import train_test_split\n",
    "from sklearn.linear_model import LogisticRegression\n",
    "from sklearn.preprocessing import LabelEncoder\n",
    "from sklearn.preprocessing import StandardScaler"
   ]
  },
  {
   "cell_type": "markdown",
   "metadata": {},
   "source": [
    "## **Loading The Dataset**"
   ]
  },
  {
   "cell_type": "code",
   "execution_count": 92,
   "metadata": {},
   "outputs": [
    {
     "data": {
      "text/html": [
       "<div>\n",
       "<style scoped>\n",
       "    .dataframe tbody tr th:only-of-type {\n",
       "        vertical-align: middle;\n",
       "    }\n",
       "\n",
       "    .dataframe tbody tr th {\n",
       "        vertical-align: top;\n",
       "    }\n",
       "\n",
       "    .dataframe thead th {\n",
       "        text-align: right;\n",
       "    }\n",
       "</style>\n",
       "<table border=\"1\" class=\"dataframe\">\n",
       "  <thead>\n",
       "    <tr style=\"text-align: right;\">\n",
       "      <th></th>\n",
       "      <th>Unnamed: 0</th>\n",
       "      <th>price</th>\n",
       "      <th>lotsize</th>\n",
       "      <th>bedrooms</th>\n",
       "      <th>bathrms</th>\n",
       "      <th>stories</th>\n",
       "      <th>driveway</th>\n",
       "      <th>recroom</th>\n",
       "      <th>fullbase</th>\n",
       "      <th>gashw</th>\n",
       "      <th>airco</th>\n",
       "      <th>garagepl</th>\n",
       "      <th>prefarea</th>\n",
       "    </tr>\n",
       "  </thead>\n",
       "  <tbody>\n",
       "    <tr>\n",
       "      <th>0</th>\n",
       "      <td>1</td>\n",
       "      <td>42000.0</td>\n",
       "      <td>5850</td>\n",
       "      <td>3</td>\n",
       "      <td>1</td>\n",
       "      <td>2</td>\n",
       "      <td>yes</td>\n",
       "      <td>no</td>\n",
       "      <td>yes</td>\n",
       "      <td>no</td>\n",
       "      <td>no</td>\n",
       "      <td>1</td>\n",
       "      <td>no</td>\n",
       "    </tr>\n",
       "    <tr>\n",
       "      <th>1</th>\n",
       "      <td>2</td>\n",
       "      <td>38500.0</td>\n",
       "      <td>4000</td>\n",
       "      <td>2</td>\n",
       "      <td>1</td>\n",
       "      <td>1</td>\n",
       "      <td>yes</td>\n",
       "      <td>no</td>\n",
       "      <td>no</td>\n",
       "      <td>no</td>\n",
       "      <td>no</td>\n",
       "      <td>0</td>\n",
       "      <td>no</td>\n",
       "    </tr>\n",
       "    <tr>\n",
       "      <th>2</th>\n",
       "      <td>3</td>\n",
       "      <td>49500.0</td>\n",
       "      <td>3060</td>\n",
       "      <td>3</td>\n",
       "      <td>1</td>\n",
       "      <td>1</td>\n",
       "      <td>yes</td>\n",
       "      <td>no</td>\n",
       "      <td>no</td>\n",
       "      <td>no</td>\n",
       "      <td>no</td>\n",
       "      <td>0</td>\n",
       "      <td>no</td>\n",
       "    </tr>\n",
       "    <tr>\n",
       "      <th>3</th>\n",
       "      <td>4</td>\n",
       "      <td>60500.0</td>\n",
       "      <td>6650</td>\n",
       "      <td>3</td>\n",
       "      <td>1</td>\n",
       "      <td>2</td>\n",
       "      <td>yes</td>\n",
       "      <td>yes</td>\n",
       "      <td>no</td>\n",
       "      <td>no</td>\n",
       "      <td>no</td>\n",
       "      <td>0</td>\n",
       "      <td>no</td>\n",
       "    </tr>\n",
       "    <tr>\n",
       "      <th>4</th>\n",
       "      <td>5</td>\n",
       "      <td>61000.0</td>\n",
       "      <td>6360</td>\n",
       "      <td>2</td>\n",
       "      <td>1</td>\n",
       "      <td>1</td>\n",
       "      <td>yes</td>\n",
       "      <td>no</td>\n",
       "      <td>no</td>\n",
       "      <td>no</td>\n",
       "      <td>no</td>\n",
       "      <td>0</td>\n",
       "      <td>no</td>\n",
       "    </tr>\n",
       "    <tr>\n",
       "      <th>5</th>\n",
       "      <td>6</td>\n",
       "      <td>66000.0</td>\n",
       "      <td>4160</td>\n",
       "      <td>3</td>\n",
       "      <td>1</td>\n",
       "      <td>1</td>\n",
       "      <td>yes</td>\n",
       "      <td>yes</td>\n",
       "      <td>yes</td>\n",
       "      <td>no</td>\n",
       "      <td>yes</td>\n",
       "      <td>0</td>\n",
       "      <td>no</td>\n",
       "    </tr>\n",
       "    <tr>\n",
       "      <th>6</th>\n",
       "      <td>7</td>\n",
       "      <td>66000.0</td>\n",
       "      <td>3880</td>\n",
       "      <td>3</td>\n",
       "      <td>2</td>\n",
       "      <td>2</td>\n",
       "      <td>yes</td>\n",
       "      <td>no</td>\n",
       "      <td>yes</td>\n",
       "      <td>no</td>\n",
       "      <td>no</td>\n",
       "      <td>2</td>\n",
       "      <td>no</td>\n",
       "    </tr>\n",
       "    <tr>\n",
       "      <th>7</th>\n",
       "      <td>8</td>\n",
       "      <td>69000.0</td>\n",
       "      <td>4160</td>\n",
       "      <td>3</td>\n",
       "      <td>1</td>\n",
       "      <td>3</td>\n",
       "      <td>yes</td>\n",
       "      <td>no</td>\n",
       "      <td>no</td>\n",
       "      <td>no</td>\n",
       "      <td>no</td>\n",
       "      <td>0</td>\n",
       "      <td>no</td>\n",
       "    </tr>\n",
       "    <tr>\n",
       "      <th>8</th>\n",
       "      <td>9</td>\n",
       "      <td>83800.0</td>\n",
       "      <td>4800</td>\n",
       "      <td>3</td>\n",
       "      <td>1</td>\n",
       "      <td>1</td>\n",
       "      <td>yes</td>\n",
       "      <td>yes</td>\n",
       "      <td>yes</td>\n",
       "      <td>no</td>\n",
       "      <td>no</td>\n",
       "      <td>0</td>\n",
       "      <td>no</td>\n",
       "    </tr>\n",
       "    <tr>\n",
       "      <th>9</th>\n",
       "      <td>10</td>\n",
       "      <td>88500.0</td>\n",
       "      <td>5500</td>\n",
       "      <td>3</td>\n",
       "      <td>2</td>\n",
       "      <td>4</td>\n",
       "      <td>yes</td>\n",
       "      <td>yes</td>\n",
       "      <td>no</td>\n",
       "      <td>no</td>\n",
       "      <td>yes</td>\n",
       "      <td>1</td>\n",
       "      <td>no</td>\n",
       "    </tr>\n",
       "  </tbody>\n",
       "</table>\n",
       "</div>"
      ],
      "text/plain": [
       "   Unnamed: 0    price  lotsize  bedrooms  bathrms  stories driveway recroom  \\\n",
       "0           1  42000.0     5850         3        1        2      yes      no   \n",
       "1           2  38500.0     4000         2        1        1      yes      no   \n",
       "2           3  49500.0     3060         3        1        1      yes      no   \n",
       "3           4  60500.0     6650         3        1        2      yes     yes   \n",
       "4           5  61000.0     6360         2        1        1      yes      no   \n",
       "5           6  66000.0     4160         3        1        1      yes     yes   \n",
       "6           7  66000.0     3880         3        2        2      yes      no   \n",
       "7           8  69000.0     4160         3        1        3      yes      no   \n",
       "8           9  83800.0     4800         3        1        1      yes     yes   \n",
       "9          10  88500.0     5500         3        2        4      yes     yes   \n",
       "\n",
       "  fullbase gashw airco  garagepl prefarea  \n",
       "0      yes    no    no         1       no  \n",
       "1       no    no    no         0       no  \n",
       "2       no    no    no         0       no  \n",
       "3       no    no    no         0       no  \n",
       "4       no    no    no         0       no  \n",
       "5      yes    no   yes         0       no  \n",
       "6      yes    no    no         2       no  \n",
       "7       no    no    no         0       no  \n",
       "8      yes    no    no         0       no  \n",
       "9       no    no   yes         1       no  "
      ]
     },
     "execution_count": 92,
     "metadata": {},
     "output_type": "execute_result"
    }
   ],
   "source": [
    "df = pd.read_csv('Housing_Area.csv')\n",
    "df.head(10)"
   ]
  },
  {
   "cell_type": "code",
   "execution_count": 93,
   "metadata": {},
   "outputs": [],
   "source": [
    "df.drop(['Unnamed: 0'], axis=1, inplace=True)"
   ]
  },
  {
   "cell_type": "code",
   "execution_count": 94,
   "metadata": {},
   "outputs": [],
   "source": [
    "lb = LabelEncoder()\n",
    "st = StandardScaler()"
   ]
  },
  {
   "cell_type": "markdown",
   "metadata": {},
   "source": [
    "# Label Encoding"
   ]
  },
  {
   "cell_type": "code",
   "execution_count": 95,
   "metadata": {},
   "outputs": [],
   "source": [
    "df['driveway'] = lb.fit_transform(df['driveway'])\n",
    "df['recroom'] = lb.fit_transform(df['recroom'])\n",
    "df['fullbase'] = lb.fit_transform(df['fullbase'])\n",
    "df['gashw'] = lb.fit_transform(df['gashw'])\n",
    "df['airco'] = lb.fit_transform(df['airco'])\n",
    "df['prefarea'] = lb.fit_transform(df['prefarea'])"
   ]
  },
  {
   "cell_type": "code",
   "execution_count": 96,
   "metadata": {},
   "outputs": [
    {
     "data": {
      "text/html": [
       "<div>\n",
       "<style scoped>\n",
       "    .dataframe tbody tr th:only-of-type {\n",
       "        vertical-align: middle;\n",
       "    }\n",
       "\n",
       "    .dataframe tbody tr th {\n",
       "        vertical-align: top;\n",
       "    }\n",
       "\n",
       "    .dataframe thead th {\n",
       "        text-align: right;\n",
       "    }\n",
       "</style>\n",
       "<table border=\"1\" class=\"dataframe\">\n",
       "  <thead>\n",
       "    <tr style=\"text-align: right;\">\n",
       "      <th></th>\n",
       "      <th>price</th>\n",
       "      <th>lotsize</th>\n",
       "      <th>bedrooms</th>\n",
       "      <th>bathrms</th>\n",
       "      <th>stories</th>\n",
       "      <th>driveway</th>\n",
       "      <th>recroom</th>\n",
       "      <th>fullbase</th>\n",
       "      <th>gashw</th>\n",
       "      <th>airco</th>\n",
       "      <th>garagepl</th>\n",
       "      <th>prefarea</th>\n",
       "    </tr>\n",
       "  </thead>\n",
       "  <tbody>\n",
       "    <tr>\n",
       "      <th>0</th>\n",
       "      <td>42000.0</td>\n",
       "      <td>5850</td>\n",
       "      <td>3</td>\n",
       "      <td>1</td>\n",
       "      <td>2</td>\n",
       "      <td>1</td>\n",
       "      <td>0</td>\n",
       "      <td>1</td>\n",
       "      <td>0</td>\n",
       "      <td>0</td>\n",
       "      <td>1</td>\n",
       "      <td>0</td>\n",
       "    </tr>\n",
       "    <tr>\n",
       "      <th>1</th>\n",
       "      <td>38500.0</td>\n",
       "      <td>4000</td>\n",
       "      <td>2</td>\n",
       "      <td>1</td>\n",
       "      <td>1</td>\n",
       "      <td>1</td>\n",
       "      <td>0</td>\n",
       "      <td>0</td>\n",
       "      <td>0</td>\n",
       "      <td>0</td>\n",
       "      <td>0</td>\n",
       "      <td>0</td>\n",
       "    </tr>\n",
       "    <tr>\n",
       "      <th>2</th>\n",
       "      <td>49500.0</td>\n",
       "      <td>3060</td>\n",
       "      <td>3</td>\n",
       "      <td>1</td>\n",
       "      <td>1</td>\n",
       "      <td>1</td>\n",
       "      <td>0</td>\n",
       "      <td>0</td>\n",
       "      <td>0</td>\n",
       "      <td>0</td>\n",
       "      <td>0</td>\n",
       "      <td>0</td>\n",
       "    </tr>\n",
       "    <tr>\n",
       "      <th>3</th>\n",
       "      <td>60500.0</td>\n",
       "      <td>6650</td>\n",
       "      <td>3</td>\n",
       "      <td>1</td>\n",
       "      <td>2</td>\n",
       "      <td>1</td>\n",
       "      <td>1</td>\n",
       "      <td>0</td>\n",
       "      <td>0</td>\n",
       "      <td>0</td>\n",
       "      <td>0</td>\n",
       "      <td>0</td>\n",
       "    </tr>\n",
       "    <tr>\n",
       "      <th>4</th>\n",
       "      <td>61000.0</td>\n",
       "      <td>6360</td>\n",
       "      <td>2</td>\n",
       "      <td>1</td>\n",
       "      <td>1</td>\n",
       "      <td>1</td>\n",
       "      <td>0</td>\n",
       "      <td>0</td>\n",
       "      <td>0</td>\n",
       "      <td>0</td>\n",
       "      <td>0</td>\n",
       "      <td>0</td>\n",
       "    </tr>\n",
       "    <tr>\n",
       "      <th>...</th>\n",
       "      <td>...</td>\n",
       "      <td>...</td>\n",
       "      <td>...</td>\n",
       "      <td>...</td>\n",
       "      <td>...</td>\n",
       "      <td>...</td>\n",
       "      <td>...</td>\n",
       "      <td>...</td>\n",
       "      <td>...</td>\n",
       "      <td>...</td>\n",
       "      <td>...</td>\n",
       "      <td>...</td>\n",
       "    </tr>\n",
       "    <tr>\n",
       "      <th>541</th>\n",
       "      <td>91500.0</td>\n",
       "      <td>4800</td>\n",
       "      <td>3</td>\n",
       "      <td>2</td>\n",
       "      <td>4</td>\n",
       "      <td>1</td>\n",
       "      <td>1</td>\n",
       "      <td>0</td>\n",
       "      <td>0</td>\n",
       "      <td>1</td>\n",
       "      <td>0</td>\n",
       "      <td>0</td>\n",
       "    </tr>\n",
       "    <tr>\n",
       "      <th>542</th>\n",
       "      <td>94000.0</td>\n",
       "      <td>6000</td>\n",
       "      <td>3</td>\n",
       "      <td>2</td>\n",
       "      <td>4</td>\n",
       "      <td>1</td>\n",
       "      <td>0</td>\n",
       "      <td>0</td>\n",
       "      <td>0</td>\n",
       "      <td>1</td>\n",
       "      <td>0</td>\n",
       "      <td>0</td>\n",
       "    </tr>\n",
       "    <tr>\n",
       "      <th>543</th>\n",
       "      <td>103000.0</td>\n",
       "      <td>6000</td>\n",
       "      <td>3</td>\n",
       "      <td>2</td>\n",
       "      <td>4</td>\n",
       "      <td>1</td>\n",
       "      <td>1</td>\n",
       "      <td>0</td>\n",
       "      <td>0</td>\n",
       "      <td>1</td>\n",
       "      <td>1</td>\n",
       "      <td>0</td>\n",
       "    </tr>\n",
       "    <tr>\n",
       "      <th>544</th>\n",
       "      <td>105000.0</td>\n",
       "      <td>6000</td>\n",
       "      <td>3</td>\n",
       "      <td>2</td>\n",
       "      <td>2</td>\n",
       "      <td>1</td>\n",
       "      <td>1</td>\n",
       "      <td>0</td>\n",
       "      <td>0</td>\n",
       "      <td>1</td>\n",
       "      <td>1</td>\n",
       "      <td>0</td>\n",
       "    </tr>\n",
       "    <tr>\n",
       "      <th>545</th>\n",
       "      <td>105000.0</td>\n",
       "      <td>6000</td>\n",
       "      <td>3</td>\n",
       "      <td>1</td>\n",
       "      <td>2</td>\n",
       "      <td>1</td>\n",
       "      <td>0</td>\n",
       "      <td>0</td>\n",
       "      <td>0</td>\n",
       "      <td>1</td>\n",
       "      <td>1</td>\n",
       "      <td>0</td>\n",
       "    </tr>\n",
       "  </tbody>\n",
       "</table>\n",
       "<p>546 rows × 12 columns</p>\n",
       "</div>"
      ],
      "text/plain": [
       "        price  lotsize  bedrooms  bathrms  stories  driveway  recroom  \\\n",
       "0     42000.0     5850         3        1        2         1        0   \n",
       "1     38500.0     4000         2        1        1         1        0   \n",
       "2     49500.0     3060         3        1        1         1        0   \n",
       "3     60500.0     6650         3        1        2         1        1   \n",
       "4     61000.0     6360         2        1        1         1        0   \n",
       "..        ...      ...       ...      ...      ...       ...      ...   \n",
       "541   91500.0     4800         3        2        4         1        1   \n",
       "542   94000.0     6000         3        2        4         1        0   \n",
       "543  103000.0     6000         3        2        4         1        1   \n",
       "544  105000.0     6000         3        2        2         1        1   \n",
       "545  105000.0     6000         3        1        2         1        0   \n",
       "\n",
       "     fullbase  gashw  airco  garagepl  prefarea  \n",
       "0           1      0      0         1         0  \n",
       "1           0      0      0         0         0  \n",
       "2           0      0      0         0         0  \n",
       "3           0      0      0         0         0  \n",
       "4           0      0      0         0         0  \n",
       "..        ...    ...    ...       ...       ...  \n",
       "541         0      0      1         0         0  \n",
       "542         0      0      1         0         0  \n",
       "543         0      0      1         1         0  \n",
       "544         0      0      1         1         0  \n",
       "545         0      0      1         1         0  \n",
       "\n",
       "[546 rows x 12 columns]"
      ]
     },
     "execution_count": 96,
     "metadata": {},
     "output_type": "execute_result"
    }
   ],
   "source": [
    "df"
   ]
  },
  {
   "cell_type": "code",
   "execution_count": 97,
   "metadata": {},
   "outputs": [],
   "source": [
    "data_copy = df.copy()"
   ]
  },
  {
   "cell_type": "markdown",
   "metadata": {},
   "source": [
    "# Feature scaling"
   ]
  },
  {
   "cell_type": "code",
   "execution_count": 98,
   "metadata": {},
   "outputs": [],
   "source": [
    "df[['lotsize']] = st.fit_transform(df[['lotsize']])\n",
    "df[['bedrooms']] = st.fit_transform(df[['bedrooms']])\n",
    "df[['bathrms']] = st.fit_transform(df[['bathrms']])\n",
    "df[['stories']] = st.fit_transform(df[['stories']])\n",
    "df[['recroom']] = st.fit_transform(df[['recroom']])\n",
    "df[['fullbase']] = st.fit_transform(df[['fullbase']])\n",
    "df[['gashw']] = st.fit_transform(df[['gashw']])\n",
    "df[['airco']] = st.fit_transform(df[['airco']])\n",
    "df[['price']] = st.fit_transform(df[['price']])\n",
    "df[['driveway']] = st.fit_transform(df[['driveway']])\n",
    "df[['garagepl']] = st.fit_transform(df[['garagepl']])"
   ]
  },
  {
   "cell_type": "code",
   "execution_count": 99,
   "metadata": {},
   "outputs": [
    {
     "data": {
      "text/html": [
       "<div>\n",
       "<style scoped>\n",
       "    .dataframe tbody tr th:only-of-type {\n",
       "        vertical-align: middle;\n",
       "    }\n",
       "\n",
       "    .dataframe tbody tr th {\n",
       "        vertical-align: top;\n",
       "    }\n",
       "\n",
       "    .dataframe thead th {\n",
       "        text-align: right;\n",
       "    }\n",
       "</style>\n",
       "<table border=\"1\" class=\"dataframe\">\n",
       "  <thead>\n",
       "    <tr style=\"text-align: right;\">\n",
       "      <th></th>\n",
       "      <th>price</th>\n",
       "      <th>lotsize</th>\n",
       "      <th>bedrooms</th>\n",
       "      <th>bathrms</th>\n",
       "      <th>stories</th>\n",
       "      <th>driveway</th>\n",
       "      <th>recroom</th>\n",
       "      <th>fullbase</th>\n",
       "      <th>gashw</th>\n",
       "      <th>airco</th>\n",
       "      <th>garagepl</th>\n",
       "      <th>prefarea</th>\n",
       "    </tr>\n",
       "  </thead>\n",
       "  <tbody>\n",
       "    <tr>\n",
       "      <th>0</th>\n",
       "      <td>-0.979136</td>\n",
       "      <td>0.323028</td>\n",
       "      <td>0.047235</td>\n",
       "      <td>-0.569495</td>\n",
       "      <td>0.221704</td>\n",
       "      <td>0.40519</td>\n",
       "      <td>-0.464796</td>\n",
       "      <td>1.363319</td>\n",
       "      <td>-0.219054</td>\n",
       "      <td>-0.681034</td>\n",
       "      <td>0.357567</td>\n",
       "      <td>0</td>\n",
       "    </tr>\n",
       "    <tr>\n",
       "      <th>1</th>\n",
       "      <td>-1.110329</td>\n",
       "      <td>-0.531013</td>\n",
       "      <td>-1.310147</td>\n",
       "      <td>-0.569495</td>\n",
       "      <td>-0.931157</td>\n",
       "      <td>0.40519</td>\n",
       "      <td>-0.464796</td>\n",
       "      <td>-0.733504</td>\n",
       "      <td>-0.219054</td>\n",
       "      <td>-0.681034</td>\n",
       "      <td>-0.804525</td>\n",
       "      <td>0</td>\n",
       "    </tr>\n",
       "    <tr>\n",
       "      <th>2</th>\n",
       "      <td>-0.698008</td>\n",
       "      <td>-0.964958</td>\n",
       "      <td>0.047235</td>\n",
       "      <td>-0.569495</td>\n",
       "      <td>-0.931157</td>\n",
       "      <td>0.40519</td>\n",
       "      <td>-0.464796</td>\n",
       "      <td>-0.733504</td>\n",
       "      <td>-0.219054</td>\n",
       "      <td>-0.681034</td>\n",
       "      <td>-0.804525</td>\n",
       "      <td>0</td>\n",
       "    </tr>\n",
       "    <tr>\n",
       "      <th>3</th>\n",
       "      <td>-0.285686</td>\n",
       "      <td>0.692343</td>\n",
       "      <td>0.047235</td>\n",
       "      <td>-0.569495</td>\n",
       "      <td>0.221704</td>\n",
       "      <td>0.40519</td>\n",
       "      <td>2.151480</td>\n",
       "      <td>-0.733504</td>\n",
       "      <td>-0.219054</td>\n",
       "      <td>-0.681034</td>\n",
       "      <td>-0.804525</td>\n",
       "      <td>0</td>\n",
       "    </tr>\n",
       "    <tr>\n",
       "      <th>4</th>\n",
       "      <td>-0.266944</td>\n",
       "      <td>0.558466</td>\n",
       "      <td>-1.310147</td>\n",
       "      <td>-0.569495</td>\n",
       "      <td>-0.931157</td>\n",
       "      <td>0.40519</td>\n",
       "      <td>-0.464796</td>\n",
       "      <td>-0.733504</td>\n",
       "      <td>-0.219054</td>\n",
       "      <td>-0.681034</td>\n",
       "      <td>-0.804525</td>\n",
       "      <td>0</td>\n",
       "    </tr>\n",
       "    <tr>\n",
       "      <th>...</th>\n",
       "      <td>...</td>\n",
       "      <td>...</td>\n",
       "      <td>...</td>\n",
       "      <td>...</td>\n",
       "      <td>...</td>\n",
       "      <td>...</td>\n",
       "      <td>...</td>\n",
       "      <td>...</td>\n",
       "      <td>...</td>\n",
       "      <td>...</td>\n",
       "      <td>...</td>\n",
       "      <td>...</td>\n",
       "    </tr>\n",
       "    <tr>\n",
       "      <th>541</th>\n",
       "      <td>0.876311</td>\n",
       "      <td>-0.161698</td>\n",
       "      <td>0.047235</td>\n",
       "      <td>1.423737</td>\n",
       "      <td>2.527427</td>\n",
       "      <td>0.40519</td>\n",
       "      <td>2.151480</td>\n",
       "      <td>-0.733504</td>\n",
       "      <td>-0.219054</td>\n",
       "      <td>1.468356</td>\n",
       "      <td>-0.804525</td>\n",
       "      <td>0</td>\n",
       "    </tr>\n",
       "    <tr>\n",
       "      <th>542</th>\n",
       "      <td>0.970020</td>\n",
       "      <td>0.392275</td>\n",
       "      <td>0.047235</td>\n",
       "      <td>1.423737</td>\n",
       "      <td>2.527427</td>\n",
       "      <td>0.40519</td>\n",
       "      <td>-0.464796</td>\n",
       "      <td>-0.733504</td>\n",
       "      <td>-0.219054</td>\n",
       "      <td>1.468356</td>\n",
       "      <td>-0.804525</td>\n",
       "      <td>0</td>\n",
       "    </tr>\n",
       "    <tr>\n",
       "      <th>543</th>\n",
       "      <td>1.307374</td>\n",
       "      <td>0.392275</td>\n",
       "      <td>0.047235</td>\n",
       "      <td>1.423737</td>\n",
       "      <td>2.527427</td>\n",
       "      <td>0.40519</td>\n",
       "      <td>2.151480</td>\n",
       "      <td>-0.733504</td>\n",
       "      <td>-0.219054</td>\n",
       "      <td>1.468356</td>\n",
       "      <td>0.357567</td>\n",
       "      <td>0</td>\n",
       "    </tr>\n",
       "    <tr>\n",
       "      <th>544</th>\n",
       "      <td>1.382342</td>\n",
       "      <td>0.392275</td>\n",
       "      <td>0.047235</td>\n",
       "      <td>1.423737</td>\n",
       "      <td>0.221704</td>\n",
       "      <td>0.40519</td>\n",
       "      <td>2.151480</td>\n",
       "      <td>-0.733504</td>\n",
       "      <td>-0.219054</td>\n",
       "      <td>1.468356</td>\n",
       "      <td>0.357567</td>\n",
       "      <td>0</td>\n",
       "    </tr>\n",
       "    <tr>\n",
       "      <th>545</th>\n",
       "      <td>1.382342</td>\n",
       "      <td>0.392275</td>\n",
       "      <td>0.047235</td>\n",
       "      <td>-0.569495</td>\n",
       "      <td>0.221704</td>\n",
       "      <td>0.40519</td>\n",
       "      <td>-0.464796</td>\n",
       "      <td>-0.733504</td>\n",
       "      <td>-0.219054</td>\n",
       "      <td>1.468356</td>\n",
       "      <td>0.357567</td>\n",
       "      <td>0</td>\n",
       "    </tr>\n",
       "  </tbody>\n",
       "</table>\n",
       "<p>546 rows × 12 columns</p>\n",
       "</div>"
      ],
      "text/plain": [
       "        price   lotsize  bedrooms   bathrms   stories  driveway   recroom  \\\n",
       "0   -0.979136  0.323028  0.047235 -0.569495  0.221704   0.40519 -0.464796   \n",
       "1   -1.110329 -0.531013 -1.310147 -0.569495 -0.931157   0.40519 -0.464796   \n",
       "2   -0.698008 -0.964958  0.047235 -0.569495 -0.931157   0.40519 -0.464796   \n",
       "3   -0.285686  0.692343  0.047235 -0.569495  0.221704   0.40519  2.151480   \n",
       "4   -0.266944  0.558466 -1.310147 -0.569495 -0.931157   0.40519 -0.464796   \n",
       "..        ...       ...       ...       ...       ...       ...       ...   \n",
       "541  0.876311 -0.161698  0.047235  1.423737  2.527427   0.40519  2.151480   \n",
       "542  0.970020  0.392275  0.047235  1.423737  2.527427   0.40519 -0.464796   \n",
       "543  1.307374  0.392275  0.047235  1.423737  2.527427   0.40519  2.151480   \n",
       "544  1.382342  0.392275  0.047235  1.423737  0.221704   0.40519  2.151480   \n",
       "545  1.382342  0.392275  0.047235 -0.569495  0.221704   0.40519 -0.464796   \n",
       "\n",
       "     fullbase     gashw     airco  garagepl  prefarea  \n",
       "0    1.363319 -0.219054 -0.681034  0.357567         0  \n",
       "1   -0.733504 -0.219054 -0.681034 -0.804525         0  \n",
       "2   -0.733504 -0.219054 -0.681034 -0.804525         0  \n",
       "3   -0.733504 -0.219054 -0.681034 -0.804525         0  \n",
       "4   -0.733504 -0.219054 -0.681034 -0.804525         0  \n",
       "..        ...       ...       ...       ...       ...  \n",
       "541 -0.733504 -0.219054  1.468356 -0.804525         0  \n",
       "542 -0.733504 -0.219054  1.468356 -0.804525         0  \n",
       "543 -0.733504 -0.219054  1.468356  0.357567         0  \n",
       "544 -0.733504 -0.219054  1.468356  0.357567         0  \n",
       "545 -0.733504 -0.219054  1.468356  0.357567         0  \n",
       "\n",
       "[546 rows x 12 columns]"
      ]
     },
     "execution_count": 99,
     "metadata": {},
     "output_type": "execute_result"
    }
   ],
   "source": [
    "df"
   ]
  },
  {
   "cell_type": "code",
   "execution_count": 100,
   "metadata": {},
   "outputs": [],
   "source": [
    "X = df.drop(['prefarea'], axis=1)"
   ]
  },
  {
   "cell_type": "code",
   "execution_count": 101,
   "metadata": {},
   "outputs": [
    {
     "data": {
      "text/html": [
       "<div>\n",
       "<style scoped>\n",
       "    .dataframe tbody tr th:only-of-type {\n",
       "        vertical-align: middle;\n",
       "    }\n",
       "\n",
       "    .dataframe tbody tr th {\n",
       "        vertical-align: top;\n",
       "    }\n",
       "\n",
       "    .dataframe thead th {\n",
       "        text-align: right;\n",
       "    }\n",
       "</style>\n",
       "<table border=\"1\" class=\"dataframe\">\n",
       "  <thead>\n",
       "    <tr style=\"text-align: right;\">\n",
       "      <th></th>\n",
       "      <th>price</th>\n",
       "      <th>lotsize</th>\n",
       "      <th>bedrooms</th>\n",
       "      <th>bathrms</th>\n",
       "      <th>stories</th>\n",
       "      <th>driveway</th>\n",
       "      <th>recroom</th>\n",
       "      <th>fullbase</th>\n",
       "      <th>gashw</th>\n",
       "      <th>airco</th>\n",
       "      <th>garagepl</th>\n",
       "    </tr>\n",
       "  </thead>\n",
       "  <tbody>\n",
       "    <tr>\n",
       "      <th>0</th>\n",
       "      <td>-0.979136</td>\n",
       "      <td>0.323028</td>\n",
       "      <td>0.047235</td>\n",
       "      <td>-0.569495</td>\n",
       "      <td>0.221704</td>\n",
       "      <td>0.40519</td>\n",
       "      <td>-0.464796</td>\n",
       "      <td>1.363319</td>\n",
       "      <td>-0.219054</td>\n",
       "      <td>-0.681034</td>\n",
       "      <td>0.357567</td>\n",
       "    </tr>\n",
       "    <tr>\n",
       "      <th>1</th>\n",
       "      <td>-1.110329</td>\n",
       "      <td>-0.531013</td>\n",
       "      <td>-1.310147</td>\n",
       "      <td>-0.569495</td>\n",
       "      <td>-0.931157</td>\n",
       "      <td>0.40519</td>\n",
       "      <td>-0.464796</td>\n",
       "      <td>-0.733504</td>\n",
       "      <td>-0.219054</td>\n",
       "      <td>-0.681034</td>\n",
       "      <td>-0.804525</td>\n",
       "    </tr>\n",
       "    <tr>\n",
       "      <th>2</th>\n",
       "      <td>-0.698008</td>\n",
       "      <td>-0.964958</td>\n",
       "      <td>0.047235</td>\n",
       "      <td>-0.569495</td>\n",
       "      <td>-0.931157</td>\n",
       "      <td>0.40519</td>\n",
       "      <td>-0.464796</td>\n",
       "      <td>-0.733504</td>\n",
       "      <td>-0.219054</td>\n",
       "      <td>-0.681034</td>\n",
       "      <td>-0.804525</td>\n",
       "    </tr>\n",
       "    <tr>\n",
       "      <th>3</th>\n",
       "      <td>-0.285686</td>\n",
       "      <td>0.692343</td>\n",
       "      <td>0.047235</td>\n",
       "      <td>-0.569495</td>\n",
       "      <td>0.221704</td>\n",
       "      <td>0.40519</td>\n",
       "      <td>2.151480</td>\n",
       "      <td>-0.733504</td>\n",
       "      <td>-0.219054</td>\n",
       "      <td>-0.681034</td>\n",
       "      <td>-0.804525</td>\n",
       "    </tr>\n",
       "    <tr>\n",
       "      <th>4</th>\n",
       "      <td>-0.266944</td>\n",
       "      <td>0.558466</td>\n",
       "      <td>-1.310147</td>\n",
       "      <td>-0.569495</td>\n",
       "      <td>-0.931157</td>\n",
       "      <td>0.40519</td>\n",
       "      <td>-0.464796</td>\n",
       "      <td>-0.733504</td>\n",
       "      <td>-0.219054</td>\n",
       "      <td>-0.681034</td>\n",
       "      <td>-0.804525</td>\n",
       "    </tr>\n",
       "    <tr>\n",
       "      <th>...</th>\n",
       "      <td>...</td>\n",
       "      <td>...</td>\n",
       "      <td>...</td>\n",
       "      <td>...</td>\n",
       "      <td>...</td>\n",
       "      <td>...</td>\n",
       "      <td>...</td>\n",
       "      <td>...</td>\n",
       "      <td>...</td>\n",
       "      <td>...</td>\n",
       "      <td>...</td>\n",
       "    </tr>\n",
       "    <tr>\n",
       "      <th>541</th>\n",
       "      <td>0.876311</td>\n",
       "      <td>-0.161698</td>\n",
       "      <td>0.047235</td>\n",
       "      <td>1.423737</td>\n",
       "      <td>2.527427</td>\n",
       "      <td>0.40519</td>\n",
       "      <td>2.151480</td>\n",
       "      <td>-0.733504</td>\n",
       "      <td>-0.219054</td>\n",
       "      <td>1.468356</td>\n",
       "      <td>-0.804525</td>\n",
       "    </tr>\n",
       "    <tr>\n",
       "      <th>542</th>\n",
       "      <td>0.970020</td>\n",
       "      <td>0.392275</td>\n",
       "      <td>0.047235</td>\n",
       "      <td>1.423737</td>\n",
       "      <td>2.527427</td>\n",
       "      <td>0.40519</td>\n",
       "      <td>-0.464796</td>\n",
       "      <td>-0.733504</td>\n",
       "      <td>-0.219054</td>\n",
       "      <td>1.468356</td>\n",
       "      <td>-0.804525</td>\n",
       "    </tr>\n",
       "    <tr>\n",
       "      <th>543</th>\n",
       "      <td>1.307374</td>\n",
       "      <td>0.392275</td>\n",
       "      <td>0.047235</td>\n",
       "      <td>1.423737</td>\n",
       "      <td>2.527427</td>\n",
       "      <td>0.40519</td>\n",
       "      <td>2.151480</td>\n",
       "      <td>-0.733504</td>\n",
       "      <td>-0.219054</td>\n",
       "      <td>1.468356</td>\n",
       "      <td>0.357567</td>\n",
       "    </tr>\n",
       "    <tr>\n",
       "      <th>544</th>\n",
       "      <td>1.382342</td>\n",
       "      <td>0.392275</td>\n",
       "      <td>0.047235</td>\n",
       "      <td>1.423737</td>\n",
       "      <td>0.221704</td>\n",
       "      <td>0.40519</td>\n",
       "      <td>2.151480</td>\n",
       "      <td>-0.733504</td>\n",
       "      <td>-0.219054</td>\n",
       "      <td>1.468356</td>\n",
       "      <td>0.357567</td>\n",
       "    </tr>\n",
       "    <tr>\n",
       "      <th>545</th>\n",
       "      <td>1.382342</td>\n",
       "      <td>0.392275</td>\n",
       "      <td>0.047235</td>\n",
       "      <td>-0.569495</td>\n",
       "      <td>0.221704</td>\n",
       "      <td>0.40519</td>\n",
       "      <td>-0.464796</td>\n",
       "      <td>-0.733504</td>\n",
       "      <td>-0.219054</td>\n",
       "      <td>1.468356</td>\n",
       "      <td>0.357567</td>\n",
       "    </tr>\n",
       "  </tbody>\n",
       "</table>\n",
       "<p>546 rows × 11 columns</p>\n",
       "</div>"
      ],
      "text/plain": [
       "        price   lotsize  bedrooms   bathrms   stories  driveway   recroom  \\\n",
       "0   -0.979136  0.323028  0.047235 -0.569495  0.221704   0.40519 -0.464796   \n",
       "1   -1.110329 -0.531013 -1.310147 -0.569495 -0.931157   0.40519 -0.464796   \n",
       "2   -0.698008 -0.964958  0.047235 -0.569495 -0.931157   0.40519 -0.464796   \n",
       "3   -0.285686  0.692343  0.047235 -0.569495  0.221704   0.40519  2.151480   \n",
       "4   -0.266944  0.558466 -1.310147 -0.569495 -0.931157   0.40519 -0.464796   \n",
       "..        ...       ...       ...       ...       ...       ...       ...   \n",
       "541  0.876311 -0.161698  0.047235  1.423737  2.527427   0.40519  2.151480   \n",
       "542  0.970020  0.392275  0.047235  1.423737  2.527427   0.40519 -0.464796   \n",
       "543  1.307374  0.392275  0.047235  1.423737  2.527427   0.40519  2.151480   \n",
       "544  1.382342  0.392275  0.047235  1.423737  0.221704   0.40519  2.151480   \n",
       "545  1.382342  0.392275  0.047235 -0.569495  0.221704   0.40519 -0.464796   \n",
       "\n",
       "     fullbase     gashw     airco  garagepl  \n",
       "0    1.363319 -0.219054 -0.681034  0.357567  \n",
       "1   -0.733504 -0.219054 -0.681034 -0.804525  \n",
       "2   -0.733504 -0.219054 -0.681034 -0.804525  \n",
       "3   -0.733504 -0.219054 -0.681034 -0.804525  \n",
       "4   -0.733504 -0.219054 -0.681034 -0.804525  \n",
       "..        ...       ...       ...       ...  \n",
       "541 -0.733504 -0.219054  1.468356 -0.804525  \n",
       "542 -0.733504 -0.219054  1.468356 -0.804525  \n",
       "543 -0.733504 -0.219054  1.468356  0.357567  \n",
       "544 -0.733504 -0.219054  1.468356  0.357567  \n",
       "545 -0.733504 -0.219054  1.468356  0.357567  \n",
       "\n",
       "[546 rows x 11 columns]"
      ]
     },
     "execution_count": 101,
     "metadata": {},
     "output_type": "execute_result"
    }
   ],
   "source": [
    "X"
   ]
  },
  {
   "cell_type": "code",
   "execution_count": 102,
   "metadata": {},
   "outputs": [],
   "source": [
    "Y= df[['prefarea']]"
   ]
  },
  {
   "cell_type": "code",
   "execution_count": 103,
   "metadata": {},
   "outputs": [],
   "source": [
    "x_train, x_test, y_train, y_test = train_test_split(X, Y, test_size=0.2, random_state=42)"
   ]
  },
  {
   "cell_type": "code",
   "execution_count": 104,
   "metadata": {},
   "outputs": [],
   "source": [
    "model = LogisticRegression()"
   ]
  },
  {
   "cell_type": "code",
   "execution_count": 105,
   "metadata": {},
   "outputs": [
    {
     "name": "stderr",
     "output_type": "stream",
     "text": [
      "C:\\Users\\Ali Hasnain\\AppData\\Local\\Programs\\Python\\Python310\\lib\\site-packages\\sklearn\\utils\\validation.py:1111: DataConversionWarning: A column-vector y was passed when a 1d array was expected. Please change the shape of y to (n_samples, ), for example using ravel().\n",
      "  y = column_or_1d(y, warn=True)\n"
     ]
    },
    {
     "data": {
      "text/html": [
       "<style>#sk-container-id-3 {color: black;background-color: white;}#sk-container-id-3 pre{padding: 0;}#sk-container-id-3 div.sk-toggleable {background-color: white;}#sk-container-id-3 label.sk-toggleable__label {cursor: pointer;display: block;width: 100%;margin-bottom: 0;padding: 0.3em;box-sizing: border-box;text-align: center;}#sk-container-id-3 label.sk-toggleable__label-arrow:before {content: \"▸\";float: left;margin-right: 0.25em;color: #696969;}#sk-container-id-3 label.sk-toggleable__label-arrow:hover:before {color: black;}#sk-container-id-3 div.sk-estimator:hover label.sk-toggleable__label-arrow:before {color: black;}#sk-container-id-3 div.sk-toggleable__content {max-height: 0;max-width: 0;overflow: hidden;text-align: left;background-color: #f0f8ff;}#sk-container-id-3 div.sk-toggleable__content pre {margin: 0.2em;color: black;border-radius: 0.25em;background-color: #f0f8ff;}#sk-container-id-3 input.sk-toggleable__control:checked~div.sk-toggleable__content {max-height: 200px;max-width: 100%;overflow: auto;}#sk-container-id-3 input.sk-toggleable__control:checked~label.sk-toggleable__label-arrow:before {content: \"▾\";}#sk-container-id-3 div.sk-estimator input.sk-toggleable__control:checked~label.sk-toggleable__label {background-color: #d4ebff;}#sk-container-id-3 div.sk-label input.sk-toggleable__control:checked~label.sk-toggleable__label {background-color: #d4ebff;}#sk-container-id-3 input.sk-hidden--visually {border: 0;clip: rect(1px 1px 1px 1px);clip: rect(1px, 1px, 1px, 1px);height: 1px;margin: -1px;overflow: hidden;padding: 0;position: absolute;width: 1px;}#sk-container-id-3 div.sk-estimator {font-family: monospace;background-color: #f0f8ff;border: 1px dotted black;border-radius: 0.25em;box-sizing: border-box;margin-bottom: 0.5em;}#sk-container-id-3 div.sk-estimator:hover {background-color: #d4ebff;}#sk-container-id-3 div.sk-parallel-item::after {content: \"\";width: 100%;border-bottom: 1px solid gray;flex-grow: 1;}#sk-container-id-3 div.sk-label:hover label.sk-toggleable__label {background-color: #d4ebff;}#sk-container-id-3 div.sk-serial::before {content: \"\";position: absolute;border-left: 1px solid gray;box-sizing: border-box;top: 0;bottom: 0;left: 50%;z-index: 0;}#sk-container-id-3 div.sk-serial {display: flex;flex-direction: column;align-items: center;background-color: white;padding-right: 0.2em;padding-left: 0.2em;position: relative;}#sk-container-id-3 div.sk-item {position: relative;z-index: 1;}#sk-container-id-3 div.sk-parallel {display: flex;align-items: stretch;justify-content: center;background-color: white;position: relative;}#sk-container-id-3 div.sk-item::before, #sk-container-id-3 div.sk-parallel-item::before {content: \"\";position: absolute;border-left: 1px solid gray;box-sizing: border-box;top: 0;bottom: 0;left: 50%;z-index: -1;}#sk-container-id-3 div.sk-parallel-item {display: flex;flex-direction: column;z-index: 1;position: relative;background-color: white;}#sk-container-id-3 div.sk-parallel-item:first-child::after {align-self: flex-end;width: 50%;}#sk-container-id-3 div.sk-parallel-item:last-child::after {align-self: flex-start;width: 50%;}#sk-container-id-3 div.sk-parallel-item:only-child::after {width: 0;}#sk-container-id-3 div.sk-dashed-wrapped {border: 1px dashed gray;margin: 0 0.4em 0.5em 0.4em;box-sizing: border-box;padding-bottom: 0.4em;background-color: white;}#sk-container-id-3 div.sk-label label {font-family: monospace;font-weight: bold;display: inline-block;line-height: 1.2em;}#sk-container-id-3 div.sk-label-container {text-align: center;}#sk-container-id-3 div.sk-container {/* jupyter's `normalize.less` sets `[hidden] { display: none; }` but bootstrap.min.css set `[hidden] { display: none !important; }` so we also need the `!important` here to be able to override the default hidden behavior on the sphinx rendered scikit-learn.org. See: https://github.com/scikit-learn/scikit-learn/issues/21755 */display: inline-block !important;position: relative;}#sk-container-id-3 div.sk-text-repr-fallback {display: none;}</style><div id=\"sk-container-id-3\" class=\"sk-top-container\"><div class=\"sk-text-repr-fallback\"><pre>LogisticRegression()</pre><b>In a Jupyter environment, please rerun this cell to show the HTML representation or trust the notebook. <br />On GitHub, the HTML representation is unable to render, please try loading this page with nbviewer.org.</b></div><div class=\"sk-container\" hidden><div class=\"sk-item\"><div class=\"sk-estimator sk-toggleable\"><input class=\"sk-toggleable__control sk-hidden--visually\" id=\"sk-estimator-id-3\" type=\"checkbox\" checked><label for=\"sk-estimator-id-3\" class=\"sk-toggleable__label sk-toggleable__label-arrow\">LogisticRegression</label><div class=\"sk-toggleable__content\"><pre>LogisticRegression()</pre></div></div></div></div></div>"
      ],
      "text/plain": [
       "LogisticRegression()"
      ]
     },
     "execution_count": 105,
     "metadata": {},
     "output_type": "execute_result"
    }
   ],
   "source": [
    "model.fit(x_train, y_train)"
   ]
  },
  {
   "cell_type": "code",
   "execution_count": 106,
   "metadata": {},
   "outputs": [],
   "source": [
    "y_pred= model.predict(x_test)"
   ]
  },
  {
   "cell_type": "code",
   "execution_count": 107,
   "metadata": {},
   "outputs": [
    {
     "data": {
      "text/plain": [
       "array([0, 0, 1, 0, 0, 1, 0, 0, 0, 0, 0, 0, 0, 0, 0, 0, 0, 0, 0, 0, 0, 0,\n",
       "       0, 0, 0, 0, 0, 0, 0, 0, 0, 1, 0, 0, 0, 0, 0, 0, 1, 0, 0, 0, 0, 0,\n",
       "       0, 0, 0, 0, 0, 0, 0, 0, 0, 0, 0, 1, 0, 0, 0, 0, 0, 1, 0, 0, 0, 0,\n",
       "       0, 0, 0, 0, 1, 0, 0, 0, 0, 0, 0, 0, 0, 0, 0, 0, 0, 0, 0, 0, 0, 0,\n",
       "       0, 0, 0, 0, 0, 0, 0, 0, 0, 0, 0, 0, 0, 0, 0, 0, 0, 0, 0, 0, 0, 0])"
      ]
     },
     "execution_count": 107,
     "metadata": {},
     "output_type": "execute_result"
    }
   ],
   "source": [
    "y_pred"
   ]
  },
  {
   "cell_type": "markdown",
   "metadata": {},
   "source": [
    "## **Testing score**"
   ]
  },
  {
   "cell_type": "code",
   "execution_count": 108,
   "metadata": {},
   "outputs": [
    {
     "data": {
      "text/plain": [
       "0.8636363636363636"
      ]
     },
     "execution_count": 108,
     "metadata": {},
     "output_type": "execute_result"
    }
   ],
   "source": [
    "model.score(x_test, y_test)"
   ]
  },
  {
   "cell_type": "markdown",
   "metadata": {},
   "source": [
    "## **Training score**"
   ]
  },
  {
   "cell_type": "code",
   "execution_count": 109,
   "metadata": {},
   "outputs": [
    {
     "data": {
      "text/plain": [
       "0.7935779816513762"
      ]
     },
     "execution_count": 109,
     "metadata": {},
     "output_type": "execute_result"
    }
   ],
   "source": [
    "model.score(x_train, y_train)"
   ]
  },
  {
   "cell_type": "markdown",
   "metadata": {},
   "source": [
    "## **Overall accuracy**"
   ]
  },
  {
   "cell_type": "code",
   "execution_count": 110,
   "metadata": {},
   "outputs": [
    {
     "name": "stdout",
     "output_type": "stream",
     "text": [
      "Accuracy :  0.8636363636363636\n"
     ]
    }
   ],
   "source": [
    "from sklearn.metrics import accuracy_score\n",
    "print(\"Accuracy : \", accuracy_score(y_test, y_pred))"
   ]
  },
  {
   "cell_type": "markdown",
   "metadata": {},
   "source": [
    "## **Wild Test**"
   ]
  },
  {
   "cell_type": "code",
   "execution_count": 111,
   "metadata": {},
   "outputs": [],
   "source": [
    "import statsmodels.formula.api as smf \n",
    "mlr = smf.ols(formula='prefarea ~ price + lotsize + bedrooms + bathrms + stories + driveway + recroom + fullbase + gashw + airco + garagepl', data=df).fit() "
   ]
  },
  {
   "cell_type": "code",
   "execution_count": 112,
   "metadata": {},
   "outputs": [
    {
     "data": {
      "text/plain": [
       "<class 'statsmodels.stats.contrast.ContrastResults'>\n",
       "<F test: F=array([[31.51187205]]), p=3.189602352956903e-08, df_denom=534, df_num=1>"
      ]
     },
     "execution_count": 112,
     "metadata": {},
     "output_type": "execute_result"
    }
   ],
   "source": [
    "waldtest = mlr.wald_test(r_matrix=\"price\", use_f=True, scalar=False)\n",
    "waldtest"
   ]
  },
  {
   "cell_type": "code",
   "execution_count": 113,
   "metadata": {},
   "outputs": [
    {
     "data": {
      "text/plain": [
       "<class 'statsmodels.stats.contrast.ContrastResults'>\n",
       "<F test: F=array([[1.36939787]]), p=0.24243735404353745, df_denom=534, df_num=1>"
      ]
     },
     "execution_count": 113,
     "metadata": {},
     "output_type": "execute_result"
    }
   ],
   "source": [
    "waldtest = mlr.wald_test(r_matrix=\"lotsize\", use_f=True, scalar=False)\n",
    "waldtest"
   ]
  },
  {
   "cell_type": "code",
   "execution_count": 114,
   "metadata": {},
   "outputs": [
    {
     "data": {
      "text/plain": [
       "<class 'statsmodels.stats.contrast.ContrastResults'>\n",
       "<F test: F=array([[0.00429222]]), p=0.9477884658566821, df_denom=534, df_num=1>"
      ]
     },
     "execution_count": 114,
     "metadata": {},
     "output_type": "execute_result"
    }
   ],
   "source": [
    "waldtest = mlr.wald_test(r_matrix=\"bedrooms\", use_f=True, scalar=False)\n",
    "waldtest"
   ]
  },
  {
   "cell_type": "code",
   "execution_count": 115,
   "metadata": {},
   "outputs": [
    {
     "data": {
      "text/plain": [
       "<class 'statsmodels.stats.contrast.ContrastResults'>\n",
       "<F test: F=array([[6.54675037]]), p=0.010782228120118921, df_denom=534, df_num=1>"
      ]
     },
     "execution_count": 115,
     "metadata": {},
     "output_type": "execute_result"
    }
   ],
   "source": [
    "waldtest = mlr.wald_test(r_matrix=\"bathrms\", use_f=True, scalar=False)\n",
    "waldtest"
   ]
  },
  {
   "cell_type": "code",
   "execution_count": 116,
   "metadata": {},
   "outputs": [
    {
     "data": {
      "text/plain": [
       "<class 'statsmodels.stats.contrast.ContrastResults'>\n",
       "<F test: F=array([[0.86182355]]), p=0.35364830940450864, df_denom=534, df_num=1>"
      ]
     },
     "execution_count": 116,
     "metadata": {},
     "output_type": "execute_result"
    }
   ],
   "source": [
    "waldtest = mlr.wald_test(r_matrix=\"stories\", use_f=True, scalar=False)\n",
    "waldtest"
   ]
  },
  {
   "cell_type": "code",
   "execution_count": 117,
   "metadata": {},
   "outputs": [
    {
     "data": {
      "text/plain": [
       "<class 'statsmodels.stats.contrast.ContrastResults'>\n",
       "<F test: F=array([[4.56352722]]), p=0.03311375815361842, df_denom=534, df_num=1>"
      ]
     },
     "execution_count": 117,
     "metadata": {},
     "output_type": "execute_result"
    }
   ],
   "source": [
    "waldtest = mlr.wald_test(r_matrix=\"driveway\", use_f=True, scalar=False)\n",
    "waldtest"
   ]
  },
  {
   "cell_type": "code",
   "execution_count": 118,
   "metadata": {},
   "outputs": [
    {
     "data": {
      "text/plain": [
       "<class 'statsmodels.stats.contrast.ContrastResults'>\n",
       "<F test: F=array([[0.15364583]]), p=0.69523172569154, df_denom=534, df_num=1>"
      ]
     },
     "execution_count": 118,
     "metadata": {},
     "output_type": "execute_result"
    }
   ],
   "source": [
    "waldtest = mlr.wald_test(r_matrix=\"recroom\", use_f=True, scalar=False)\n",
    "waldtest"
   ]
  },
  {
   "cell_type": "code",
   "execution_count": 119,
   "metadata": {},
   "outputs": [
    {
     "data": {
      "text/plain": [
       "<class 'statsmodels.stats.contrast.ContrastResults'>\n",
       "<F test: F=array([[12.01808638]]), p=0.0005693093118276944, df_denom=534, df_num=1>"
      ]
     },
     "execution_count": 119,
     "metadata": {},
     "output_type": "execute_result"
    }
   ],
   "source": [
    "waldtest = mlr.wald_test(r_matrix=\"fullbase\", use_f=True, scalar=False)\n",
    "waldtest"
   ]
  },
  {
   "cell_type": "code",
   "execution_count": 120,
   "metadata": {},
   "outputs": [
    {
     "data": {
      "text/plain": [
       "<class 'statsmodels.stats.contrast.ContrastResults'>\n",
       "<F test: F=array([[4.57874453]]), p=0.03282349094653312, df_denom=534, df_num=1>"
      ]
     },
     "execution_count": 120,
     "metadata": {},
     "output_type": "execute_result"
    }
   ],
   "source": [
    "waldtest = mlr.wald_test(r_matrix=\"gashw\", use_f=True, scalar=False)\n",
    "waldtest"
   ]
  },
  {
   "cell_type": "code",
   "execution_count": 121,
   "metadata": {},
   "outputs": [
    {
     "data": {
      "text/plain": [
       "<class 'statsmodels.stats.contrast.ContrastResults'>\n",
       "<F test: F=array([[1.29053751]]), p=0.25645849319995717, df_denom=534, df_num=1>"
      ]
     },
     "execution_count": 121,
     "metadata": {},
     "output_type": "execute_result"
    }
   ],
   "source": [
    "waldtest = mlr.wald_test(r_matrix=\"airco\", use_f=True, scalar=False)\n",
    "waldtest"
   ]
  },
  {
   "cell_type": "code",
   "execution_count": 122,
   "metadata": {},
   "outputs": [
    {
     "data": {
      "text/plain": [
       "<class 'statsmodels.stats.contrast.ContrastResults'>\n",
       "<F test: F=array([[1.95638432]]), p=0.162481044184708, df_denom=534, df_num=1>"
      ]
     },
     "execution_count": 122,
     "metadata": {},
     "output_type": "execute_result"
    }
   ],
   "source": [
    "waldtest = mlr.wald_test(r_matrix=\"garagepl\", use_f=True, scalar=False)\n",
    "waldtest"
   ]
  },
  {
   "cell_type": "markdown",
   "metadata": {},
   "source": [
    "## **As from wild test result , the p value (parameter value) for bedrooms in data has highest contribution  p=0.947788465856682**"
   ]
  },
  {
   "cell_type": "markdown",
   "metadata": {},
   "source": [
    "---"
   ]
  },
  {
   "cell_type": "markdown",
   "metadata": {},
   "source": [
    "## **Likelihood test**"
   ]
  },
  {
   "cell_type": "code",
   "execution_count": 123,
   "metadata": {},
   "outputs": [
    {
     "data": {
      "text/plain": [
       "-278.46507791398426"
      ]
     },
     "execution_count": 123,
     "metadata": {},
     "output_type": "execute_result"
    }
   ],
   "source": [
    "import statsmodels.api as sm\n",
    "full_model = sm.OLS(y_train, x_train).fit()\n",
    "full_ll = full_model.llf\n",
    "full_ll"
   ]
  },
  {
   "cell_type": "markdown",
   "metadata": {},
   "source": [
    "## **Confusion Matrix**"
   ]
  },
  {
   "cell_type": "code",
   "execution_count": 124,
   "metadata": {},
   "outputs": [
    {
     "name": "stdout",
     "output_type": "stream",
     "text": [
      "Confusion Matrix : \n",
      " [[89  1]\n",
      " [14  6]]\n"
     ]
    }
   ],
   "source": [
    "from sklearn.metrics import confusion_matrix\n",
    "cm = confusion_matrix(y_test, y_pred)\n",
    "\n",
    "print (\"Confusion Matrix : \\n\", cm)"
   ]
  },
  {
   "cell_type": "markdown",
   "metadata": {},
   "source": [
    "## **Here 89 + 6 values are correctly predicit by our model and 14 + 1 values are predicit wrong**"
   ]
  },
  {
   "cell_type": "markdown",
   "metadata": {},
   "source": [
    "---"
   ]
  },
  {
   "cell_type": "markdown",
   "metadata": {},
   "source": [
    "## **Overall summary**"
   ]
  },
  {
   "cell_type": "code",
   "execution_count": 125,
   "metadata": {},
   "outputs": [
    {
     "name": "stdout",
     "output_type": "stream",
     "text": [
      "Optimization terminated successfully.\n",
      "         Current function value: 0.623868\n",
      "         Iterations 5\n",
      "                        Results: Logit\n",
      "===============================================================\n",
      "Model:              Logit            Pseudo R-squared: -0.146  \n",
      "Dependent Variable: prefarea         AIC:              703.2634\n",
      "Date:               2022-08-10 02:44 BIC:              750.5922\n",
      "No. Observations:   546              Log-Likelihood:   -340.63 \n",
      "Df Model:           10               LL-Null:          -297.34 \n",
      "Df Residuals:       535              LLR p-value:      1.0000  \n",
      "Converged:          1.0000           Scale:            1.0000  \n",
      "No. Iterations:     5.0000                                     \n",
      "----------------------------------------------------------------\n",
      "             Coef.   Std.Err.     z     P>|z|    [0.025   0.975]\n",
      "----------------------------------------------------------------\n",
      "price        0.8030    0.1768   4.5427  0.0000   0.4565   1.1494\n",
      "lotsize      0.0966    0.1166   0.8287  0.4073  -0.1319   0.3251\n",
      "bedrooms     0.0118    0.1077   0.1095  0.9128  -0.1993   0.2229\n",
      "bathrms     -0.2646    0.1177  -2.2475  0.0246  -0.4953  -0.0339\n",
      "stories     -0.1145    0.1171  -0.9780  0.3281  -0.3440   0.1150\n",
      "driveway     0.1663    0.1028   1.6168  0.1059  -0.0353   0.3678\n",
      "recroom      0.0170    0.1035   0.1641  0.8696  -0.1859   0.2199\n",
      "fullbase     0.2958    0.1047   2.8252  0.0047   0.0906   0.5010\n",
      "gashw       -0.1907    0.1025  -1.8606  0.0628  -0.3916   0.0102\n",
      "airco       -0.1149    0.1076  -1.0680  0.2855  -0.3257   0.0959\n",
      "garagepl    -0.1145    0.1021  -1.1214  0.2621  -0.3145   0.0856\n",
      "===============================================================\n",
      "\n"
     ]
    }
   ],
   "source": [
    "import statsmodels.api as sm\n",
    "logit_model=sm.Logit(Y,X)\n",
    "result=logit_model.fit()\n",
    "print(result.summary2())"
   ]
  },
  {
   "cell_type": "code",
   "execution_count": 126,
   "metadata": {},
   "outputs": [
    {
     "name": "stdout",
     "output_type": "stream",
     "text": [
      "Optimization terminated successfully.\n",
      "         Current function value: 0.622333\n",
      "         Iterations 5\n",
      "                        Results: Logit\n",
      "===============================================================\n",
      "Model:              Logit            Pseudo R-squared: -0.112  \n",
      "Dependent Variable: prefarea         AIC:              564.6743\n",
      "Date:               2022-08-10 02:44 BIC:              609.5283\n",
      "No. Observations:   436              Log-Likelihood:   -271.34 \n",
      "Df Model:           10               LL-Null:          -244.07 \n",
      "Df Residuals:       425              LLR p-value:      1.0000  \n",
      "Converged:          1.0000           Scale:            1.0000  \n",
      "No. Iterations:     5.0000                                     \n",
      "----------------------------------------------------------------\n",
      "             Coef.   Std.Err.     z     P>|z|    [0.025   0.975]\n",
      "----------------------------------------------------------------\n",
      "price        0.6683    0.1969   3.3947  0.0007   0.2824   1.0541\n",
      "lotsize      0.1822    0.1327   1.3729  0.1698  -0.0779   0.4422\n",
      "bedrooms    -0.0109    0.1266  -0.0859  0.9316  -0.2590   0.2373\n",
      "bathrms     -0.2891    0.1322  -2.1869  0.0288  -0.5483  -0.0300\n",
      "stories      0.0155    0.1334   0.1162  0.9075  -0.2459   0.2769\n",
      "driveway     0.1419    0.1165   1.2181  0.2232  -0.0864   0.3701\n",
      "recroom     -0.0954    0.1161  -0.8223  0.4109  -0.3229   0.1320\n",
      "fullbase     0.4725    0.1227   3.8496  0.0001   0.2319   0.7131\n",
      "gashw       -0.2018    0.1250  -1.6139  0.1065  -0.4468   0.0433\n",
      "airco       -0.1670    0.1199  -1.3929  0.1636  -0.4020   0.0680\n",
      "garagepl    -0.0721    0.1145  -0.6294  0.5291  -0.2965   0.1524\n",
      "===============================================================\n",
      "\n"
     ]
    }
   ],
   "source": [
    "import statsmodels.api as sm\n",
    "logit_model=sm.Logit(y_train,x_train)\n",
    "result=logit_model.fit()\n",
    "print(result.summary2())"
   ]
  },
  {
   "cell_type": "code",
   "execution_count": 127,
   "metadata": {},
   "outputs": [
    {
     "name": "stdout",
     "output_type": "stream",
     "text": [
      "Optimization terminated successfully.\n",
      "         Current function value: 0.550901\n",
      "         Iterations 6\n",
      "                        Results: Logit\n",
      "===============================================================\n",
      "Model:              Logit            Pseudo R-squared: -0.162  \n",
      "Dependent Variable: prefarea         AIC:              143.1981\n",
      "Date:               2022-08-10 02:44 BIC:              172.9034\n",
      "No. Observations:   110              Log-Likelihood:   -60.599 \n",
      "Df Model:           10               LL-Null:          -52.155 \n",
      "Df Residuals:       99               LLR p-value:      1.0000  \n",
      "Converged:          1.0000           Scale:            1.0000  \n",
      "No. Iterations:     6.0000                                     \n",
      "----------------------------------------------------------------\n",
      "             Coef.   Std.Err.     z     P>|z|    [0.025   0.975]\n",
      "----------------------------------------------------------------\n",
      "price        1.3946    0.4720   2.9546  0.0031   0.4695   2.3198\n",
      "lotsize     -0.1720    0.2985  -0.5763  0.5644  -0.7570   0.4130\n",
      "bedrooms     0.1769    0.2497   0.7084  0.4787  -0.3125   0.6662\n",
      "bathrms     -0.2455    0.2790  -0.8802  0.3788  -0.7923   0.3012\n",
      "stories     -0.7413    0.3133  -2.3659  0.0180  -1.3554  -0.1272\n",
      "driveway     0.2725    0.2541   1.0723  0.2836  -0.2256   0.7706\n",
      "recroom      0.6112    0.2843   2.1500  0.0316   0.0540   1.1684\n",
      "fullbase    -0.2206    0.2352  -0.9383  0.3481  -0.6816   0.2403\n",
      "gashw       -0.0810    0.1831  -0.4423  0.6583  -0.4398   0.2779\n",
      "airco        0.2198    0.2731   0.8046  0.4210  -0.3156   0.7551\n",
      "garagepl    -0.2313    0.2718  -0.8510  0.3948  -0.7640   0.3014\n",
      "===============================================================\n",
      "\n"
     ]
    }
   ],
   "source": [
    "import statsmodels.api as sm\n",
    "logit_model=sm.Logit(y_test,x_test)\n",
    "result=logit_model.fit()\n",
    "print(result.summary2())"
   ]
  },
  {
   "cell_type": "code",
   "execution_count": 128,
   "metadata": {},
   "outputs": [
    {
     "name": "stdout",
     "output_type": "stream",
     "text": [
      "              precision    recall  f1-score   support\n",
      "\n",
      "           0       0.86      0.99      0.92        90\n",
      "           1       0.86      0.30      0.44        20\n",
      "\n",
      "    accuracy                           0.86       110\n",
      "   macro avg       0.86      0.64      0.68       110\n",
      "weighted avg       0.86      0.86      0.84       110\n",
      "\n"
     ]
    }
   ],
   "source": [
    "from sklearn.metrics import classification_report\n",
    "print(classification_report(y_test, y_pred))"
   ]
  },
  {
   "cell_type": "markdown",
   "metadata": {},
   "source": [
    "---"
   ]
  },
  {
   "cell_type": "markdown",
   "metadata": {},
   "source": [
    "## **Chi Square Test**"
   ]
  },
  {
   "cell_type": "code",
   "execution_count": 129,
   "metadata": {},
   "outputs": [],
   "source": [
    "from scipy.stats import chi2_contingency\n",
    "from scipy.stats import chi2"
   ]
  },
  {
   "cell_type": "code",
   "execution_count": 130,
   "metadata": {},
   "outputs": [
    {
     "data": {
      "text/html": [
       "<div>\n",
       "<style scoped>\n",
       "    .dataframe tbody tr th:only-of-type {\n",
       "        vertical-align: middle;\n",
       "    }\n",
       "\n",
       "    .dataframe tbody tr th {\n",
       "        vertical-align: top;\n",
       "    }\n",
       "\n",
       "    .dataframe thead th {\n",
       "        text-align: right;\n",
       "    }\n",
       "</style>\n",
       "<table border=\"1\" class=\"dataframe\">\n",
       "  <thead>\n",
       "    <tr style=\"text-align: right;\">\n",
       "      <th></th>\n",
       "      <th>price</th>\n",
       "      <th>lotsize</th>\n",
       "      <th>bedrooms</th>\n",
       "      <th>bathrms</th>\n",
       "      <th>stories</th>\n",
       "      <th>driveway</th>\n",
       "      <th>recroom</th>\n",
       "      <th>fullbase</th>\n",
       "      <th>gashw</th>\n",
       "      <th>airco</th>\n",
       "      <th>garagepl</th>\n",
       "      <th>prefarea</th>\n",
       "    </tr>\n",
       "  </thead>\n",
       "  <tbody>\n",
       "    <tr>\n",
       "      <th>0</th>\n",
       "      <td>42000.0</td>\n",
       "      <td>5850</td>\n",
       "      <td>3</td>\n",
       "      <td>1</td>\n",
       "      <td>2</td>\n",
       "      <td>1</td>\n",
       "      <td>0</td>\n",
       "      <td>1</td>\n",
       "      <td>0</td>\n",
       "      <td>0</td>\n",
       "      <td>1</td>\n",
       "      <td>0</td>\n",
       "    </tr>\n",
       "    <tr>\n",
       "      <th>1</th>\n",
       "      <td>38500.0</td>\n",
       "      <td>4000</td>\n",
       "      <td>2</td>\n",
       "      <td>1</td>\n",
       "      <td>1</td>\n",
       "      <td>1</td>\n",
       "      <td>0</td>\n",
       "      <td>0</td>\n",
       "      <td>0</td>\n",
       "      <td>0</td>\n",
       "      <td>0</td>\n",
       "      <td>0</td>\n",
       "    </tr>\n",
       "    <tr>\n",
       "      <th>2</th>\n",
       "      <td>49500.0</td>\n",
       "      <td>3060</td>\n",
       "      <td>3</td>\n",
       "      <td>1</td>\n",
       "      <td>1</td>\n",
       "      <td>1</td>\n",
       "      <td>0</td>\n",
       "      <td>0</td>\n",
       "      <td>0</td>\n",
       "      <td>0</td>\n",
       "      <td>0</td>\n",
       "      <td>0</td>\n",
       "    </tr>\n",
       "    <tr>\n",
       "      <th>3</th>\n",
       "      <td>60500.0</td>\n",
       "      <td>6650</td>\n",
       "      <td>3</td>\n",
       "      <td>1</td>\n",
       "      <td>2</td>\n",
       "      <td>1</td>\n",
       "      <td>1</td>\n",
       "      <td>0</td>\n",
       "      <td>0</td>\n",
       "      <td>0</td>\n",
       "      <td>0</td>\n",
       "      <td>0</td>\n",
       "    </tr>\n",
       "    <tr>\n",
       "      <th>4</th>\n",
       "      <td>61000.0</td>\n",
       "      <td>6360</td>\n",
       "      <td>2</td>\n",
       "      <td>1</td>\n",
       "      <td>1</td>\n",
       "      <td>1</td>\n",
       "      <td>0</td>\n",
       "      <td>0</td>\n",
       "      <td>0</td>\n",
       "      <td>0</td>\n",
       "      <td>0</td>\n",
       "      <td>0</td>\n",
       "    </tr>\n",
       "    <tr>\n",
       "      <th>...</th>\n",
       "      <td>...</td>\n",
       "      <td>...</td>\n",
       "      <td>...</td>\n",
       "      <td>...</td>\n",
       "      <td>...</td>\n",
       "      <td>...</td>\n",
       "      <td>...</td>\n",
       "      <td>...</td>\n",
       "      <td>...</td>\n",
       "      <td>...</td>\n",
       "      <td>...</td>\n",
       "      <td>...</td>\n",
       "    </tr>\n",
       "    <tr>\n",
       "      <th>541</th>\n",
       "      <td>91500.0</td>\n",
       "      <td>4800</td>\n",
       "      <td>3</td>\n",
       "      <td>2</td>\n",
       "      <td>4</td>\n",
       "      <td>1</td>\n",
       "      <td>1</td>\n",
       "      <td>0</td>\n",
       "      <td>0</td>\n",
       "      <td>1</td>\n",
       "      <td>0</td>\n",
       "      <td>0</td>\n",
       "    </tr>\n",
       "    <tr>\n",
       "      <th>542</th>\n",
       "      <td>94000.0</td>\n",
       "      <td>6000</td>\n",
       "      <td>3</td>\n",
       "      <td>2</td>\n",
       "      <td>4</td>\n",
       "      <td>1</td>\n",
       "      <td>0</td>\n",
       "      <td>0</td>\n",
       "      <td>0</td>\n",
       "      <td>1</td>\n",
       "      <td>0</td>\n",
       "      <td>0</td>\n",
       "    </tr>\n",
       "    <tr>\n",
       "      <th>543</th>\n",
       "      <td>103000.0</td>\n",
       "      <td>6000</td>\n",
       "      <td>3</td>\n",
       "      <td>2</td>\n",
       "      <td>4</td>\n",
       "      <td>1</td>\n",
       "      <td>1</td>\n",
       "      <td>0</td>\n",
       "      <td>0</td>\n",
       "      <td>1</td>\n",
       "      <td>1</td>\n",
       "      <td>0</td>\n",
       "    </tr>\n",
       "    <tr>\n",
       "      <th>544</th>\n",
       "      <td>105000.0</td>\n",
       "      <td>6000</td>\n",
       "      <td>3</td>\n",
       "      <td>2</td>\n",
       "      <td>2</td>\n",
       "      <td>1</td>\n",
       "      <td>1</td>\n",
       "      <td>0</td>\n",
       "      <td>0</td>\n",
       "      <td>1</td>\n",
       "      <td>1</td>\n",
       "      <td>0</td>\n",
       "    </tr>\n",
       "    <tr>\n",
       "      <th>545</th>\n",
       "      <td>105000.0</td>\n",
       "      <td>6000</td>\n",
       "      <td>3</td>\n",
       "      <td>1</td>\n",
       "      <td>2</td>\n",
       "      <td>1</td>\n",
       "      <td>0</td>\n",
       "      <td>0</td>\n",
       "      <td>0</td>\n",
       "      <td>1</td>\n",
       "      <td>1</td>\n",
       "      <td>0</td>\n",
       "    </tr>\n",
       "  </tbody>\n",
       "</table>\n",
       "<p>546 rows × 12 columns</p>\n",
       "</div>"
      ],
      "text/plain": [
       "        price  lotsize  bedrooms  bathrms  stories  driveway  recroom  \\\n",
       "0     42000.0     5850         3        1        2         1        0   \n",
       "1     38500.0     4000         2        1        1         1        0   \n",
       "2     49500.0     3060         3        1        1         1        0   \n",
       "3     60500.0     6650         3        1        2         1        1   \n",
       "4     61000.0     6360         2        1        1         1        0   \n",
       "..        ...      ...       ...      ...      ...       ...      ...   \n",
       "541   91500.0     4800         3        2        4         1        1   \n",
       "542   94000.0     6000         3        2        4         1        0   \n",
       "543  103000.0     6000         3        2        4         1        1   \n",
       "544  105000.0     6000         3        2        2         1        1   \n",
       "545  105000.0     6000         3        1        2         1        0   \n",
       "\n",
       "     fullbase  gashw  airco  garagepl  prefarea  \n",
       "0           1      0      0         1         0  \n",
       "1           0      0      0         0         0  \n",
       "2           0      0      0         0         0  \n",
       "3           0      0      0         0         0  \n",
       "4           0      0      0         0         0  \n",
       "..        ...    ...    ...       ...       ...  \n",
       "541         0      0      1         0         0  \n",
       "542         0      0      1         0         0  \n",
       "543         0      0      1         1         0  \n",
       "544         0      0      1         1         0  \n",
       "545         0      0      1         1         0  \n",
       "\n",
       "[546 rows x 12 columns]"
      ]
     },
     "execution_count": 130,
     "metadata": {},
     "output_type": "execute_result"
    }
   ],
   "source": [
    "data_copy"
   ]
  },
  {
   "cell_type": "code",
   "execution_count": 133,
   "metadata": {},
   "outputs": [],
   "source": [
    "stat, p, dof, expected = chi2_contingency(data_copy[['price', 'prefarea', 'lotsize', \n",
    "                                                     'bedrooms', 'bathrms', 'stories', 'driveway', 'recroom', 'fullbase', 'gashw', 'airco', 'garagepl']])"
   ]
  },
  {
   "cell_type": "code",
   "execution_count": 136,
   "metadata": {},
   "outputs": [
    {
     "data": {
      "text/plain": [
       "6108.531507734429"
      ]
     },
     "execution_count": 136,
     "metadata": {},
     "output_type": "execute_result"
    }
   ],
   "source": [
    "prob = 0.85\n",
    "chi = chi2.ppf(prob, dof)\n",
    "chi"
   ]
  },
  {
   "cell_type": "code",
   "execution_count": 137,
   "metadata": {},
   "outputs": [
    {
     "name": "stdout",
     "output_type": "stream",
     "text": [
      "reject Null hypothesis\n"
     ]
    }
   ],
   "source": [
    "if abs(stat) >= chi:\n",
    "    \tprint('reject Null hypothesis')\n",
    "else:\n",
    "\tprint('fail to reject')"
   ]
  }
 ],
 "metadata": {
  "kernelspec": {
   "display_name": "Python ('fyp')",
   "language": "python",
   "name": "python3"
  },
  "language_info": {
   "codemirror_mode": {
    "name": "ipython",
    "version": 3
   },
   "file_extension": ".py",
   "mimetype": "text/x-python",
   "name": "python",
   "nbconvert_exporter": "python",
   "pygments_lexer": "ipython3",
   "version": "3.10.0"
  },
  "orig_nbformat": 4,
  "vscode": {
   "interpreter": {
    "hash": "25a19fbe0a9132dfb9279d48d161753c6352f8f9478c2e74383d340069b907c3"
   }
  }
 },
 "nbformat": 4,
 "nbformat_minor": 2
}
