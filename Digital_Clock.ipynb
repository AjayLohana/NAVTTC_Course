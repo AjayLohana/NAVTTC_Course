{
 "cells": [
  {
   "cell_type": "code",
   "execution_count": 1,
   "metadata": {},
   "outputs": [
    {
     "name": "stderr",
     "output_type": "stream",
     "text": [
      "c:\\Users\\Lenovo\\AppData\\Local\\Programs\\Python\\Python310\\lib\\site-packages\\pyglet\\image\\codecs\\wic.py:434: UserWarning: [WinError -2147417850] Cannot change thread mode after it is set\n",
      "  warnings.warn(str(err))\n"
     ]
    }
   ],
   "source": [
    "from tkinter import *\n",
    "import tkinter\n",
    "from datetime import datetime\n",
    "import pyglet\n",
    "font=pyglet.font.add_file('digital-7.ttf')\n",
    "\n",
    "\n",
    "cor1 = \"#3d3d3d\"  # black\n",
    "cor2 = \"#fafcff\"  # white\n",
    "cor3 = \"#21c25c\"  # green\n",
    "cor4 = \"#eb463b\"  # red\n",
    "cor5 = \"#dedcdc\"  # gray\n",
    "cor6 = \"#3080f0\"  # blue\n",
    "\n",
    "root = Tk()\n",
    "root.title(\"\")\n",
    "root.geometry('440x180')\n",
    "root.configure(background=cor1)\n",
    "\n",
    "\n",
    "def clock():\n",
    "    time = datetime.now()\n",
    "    hour = time.strftime(\"%H:%M:%S\")\n",
    "    weekday = time.strftime(\"%A\")\n",
    "    day = time.day\n",
    "    month = time.strftime(\"%b\")\n",
    "    year = time.strftime(\"%Y\")\n",
    "    l1.config(text=hour)\n",
    "    l1.after(200, clock)\n",
    "    l2.config(text=weekday + \" \" + str(day) + \"/\" + str(month) + \"/\" + (year))\n",
    "\n",
    "\n",
    "l1 = Label(root, text=\"10:05:05\", font=('digital-7  80'), bg=cor1, fg=cor3)\n",
    "l1.grid(row=0, column=0, sticky=NW, padx=5)\n",
    "\n",
    "l2 = Label(root,  font=('digital-7  20'), bg=cor1, fg=cor3)\n",
    "l2.grid(row=1, column=0, sticky=NW, padx=5)\n",
    "\n",
    "clock()\n",
    "\n",
    "root.mainloop()"
   ]
  },
  {
   "cell_type": "code",
   "execution_count": null,
   "metadata": {},
   "outputs": [],
   "source": []
  }
 ],
 "metadata": {
  "interpreter": {
   "hash": "8c3d4d9970fc5c09c50d9318a9c7fbf4d0159e4b28833276f5678ee22bded273"
  },
  "kernelspec": {
   "display_name": "Python 3.10.4 64-bit",
   "language": "python",
   "name": "python3"
  },
  "language_info": {
   "codemirror_mode": {
    "name": "ipython",
    "version": 3
   },
   "file_extension": ".py",
   "mimetype": "text/x-python",
   "name": "python",
   "nbconvert_exporter": "python",
   "pygments_lexer": "ipython3",
   "version": "3.10.4"
  },
  "orig_nbformat": 4
 },
 "nbformat": 4,
 "nbformat_minor": 2
}
